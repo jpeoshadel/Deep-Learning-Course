{
  "cells": [
    {
      "cell_type": "markdown",
      "metadata": {
        "id": "view-in-github",
        "colab_type": "text"
      },
      "source": [
        "<a href=\"https://colab.research.google.com/github/jpeoshadel/Deep-Learning-Course/blob/main/1_tensors.ipynb\" target=\"_parent\"><img src=\"https://colab.research.google.com/assets/colab-badge.svg\" alt=\"Open In Colab\"/></a>"
      ]
    },
    {
      "cell_type": "code",
      "execution_count": null,
      "metadata": {
        "id": "9pJix0caIs7M"
      },
      "outputs": [],
      "source": [
        "a = [1.0, 2.0, 1.0]"
      ]
    },
    {
      "cell_type": "code",
      "execution_count": 61,
      "metadata": {
        "colab": {
          "base_uri": "https://localhost:8080/"
        },
        "id": "5523Q3fvIs7N",
        "outputId": "5c400062-84c8-4872-9a00-27887323c5c8"
      },
      "outputs": [
        {
          "output_type": "execute_result",
          "data": {
            "text/plain": [
              "tensor(1.)"
            ]
          },
          "metadata": {},
          "execution_count": 61
        }
      ],
      "source": [
        "a[0]"
      ]
    },
    {
      "cell_type": "code",
      "execution_count": 62,
      "metadata": {
        "colab": {
          "base_uri": "https://localhost:8080/"
        },
        "id": "E597Z1xhIs7N",
        "outputId": "44402f2b-3e21-4297-89b3-66a4e347de00",
        "collapsed": true
      },
      "outputs": [
        {
          "output_type": "execute_result",
          "data": {
            "text/plain": [
              "tensor([1., 1., 3.])"
            ]
          },
          "metadata": {},
          "execution_count": 62
        }
      ],
      "source": [
        "a[2] = 3.0\n",
        "a"
      ]
    },
    {
      "cell_type": "code",
      "execution_count": 64,
      "metadata": {
        "colab": {
          "base_uri": "https://localhost:8080/"
        },
        "id": "CMcODkbNIs7N",
        "outputId": "b704cbb4-5ba6-4b80-b6e7-7260fa38dbd8"
      },
      "outputs": [
        {
          "output_type": "execute_result",
          "data": {
            "text/plain": [
              "tensor([1., 1., 1.])"
            ]
          },
          "metadata": {},
          "execution_count": 64
        }
      ],
      "source": [
        "import torch # <1>\n",
        "a = torch.ones(3) # <2>\n",
        "a"
      ]
    },
    {
      "cell_type": "code",
      "execution_count": 65,
      "metadata": {
        "colab": {
          "base_uri": "https://localhost:8080/"
        },
        "id": "01ghJakaIs7N",
        "outputId": "48080a2e-0e35-44ae-8b7a-983b278071f5"
      },
      "outputs": [
        {
          "output_type": "execute_result",
          "data": {
            "text/plain": [
              "tensor(1.)"
            ]
          },
          "metadata": {},
          "execution_count": 65
        }
      ],
      "source": [
        "a[1]"
      ]
    },
    {
      "cell_type": "code",
      "execution_count": 66,
      "metadata": {
        "colab": {
          "base_uri": "https://localhost:8080/"
        },
        "id": "ZFF1BBqoIs7O",
        "outputId": "e04fe563-5c01-4a98-c670-4bd7e63539c0"
      },
      "outputs": [
        {
          "output_type": "execute_result",
          "data": {
            "text/plain": [
              "1.0"
            ]
          },
          "metadata": {},
          "execution_count": 66
        }
      ],
      "source": [
        "float(a[1])"
      ]
    },
    {
      "cell_type": "code",
      "execution_count": 68,
      "metadata": {
        "colab": {
          "base_uri": "https://localhost:8080/"
        },
        "id": "4MN5yt9HIs7O",
        "outputId": "d328b8c4-97a4-41df-8dee-327638e810c3"
      },
      "outputs": [
        {
          "output_type": "execute_result",
          "data": {
            "text/plain": [
              "tensor([1., 1., 2.])"
            ]
          },
          "metadata": {},
          "execution_count": 68
        }
      ],
      "source": [
        "a[2] = 2.0\n",
        "a"
      ]
    },
    {
      "cell_type": "code",
      "execution_count": null,
      "metadata": {
        "id": "Rj8LnF_RIs7O"
      },
      "outputs": [],
      "source": [
        "points = torch.zeros(6) # <1>\n",
        "points[0] = 4.0 # <2>\n",
        "points[1] = 1.0\n",
        "points[2] = 5.0\n",
        "points[3] = 3.0\n",
        "points[4] = 2.0\n",
        "points[5] = 1.0"
      ]
    },
    {
      "cell_type": "code",
      "execution_count": null,
      "metadata": {
        "id": "2-dJQVtWIs7O",
        "outputId": "d2d0ba6e-2b7e-4e0f-e636-6eec71bc89d6"
      },
      "outputs": [
        {
          "data": {
            "text/plain": [
              "tensor([4., 1., 5., 3., 2., 1.])"
            ]
          },
          "execution_count": 9,
          "metadata": {},
          "output_type": "execute_result"
        }
      ],
      "source": [
        "points = torch.tensor([4.0, 1.0, 5.0, 3.0, 2.0, 1.0])\n",
        "points"
      ]
    },
    {
      "cell_type": "code",
      "execution_count": null,
      "metadata": {
        "colab": {
          "base_uri": "https://localhost:8080/"
        },
        "id": "9UPddcvzIs7O",
        "outputId": "4eacdd28-1529-465e-8862-120adddf19f8"
      },
      "outputs": [
        {
          "output_type": "execute_result",
          "data": {
            "text/plain": [
              "(4.0, 5.0)"
            ]
          },
          "metadata": {},
          "execution_count": 22
        }
      ],
      "source": [
        "float(points[0]), float(points[2])"
      ]
    },
    {
      "cell_type": "code",
      "execution_count": null,
      "metadata": {
        "colab": {
          "base_uri": "https://localhost:8080/"
        },
        "id": "Z2BPsOF_Is7O",
        "outputId": "0243e33e-b3b2-4bfa-b0c4-01bc4ca405fe"
      },
      "outputs": [
        {
          "output_type": "execute_result",
          "data": {
            "text/plain": [
              "tensor([[4., 1.],\n",
              "        [5., 3.],\n",
              "        [2., 1.]])"
            ]
          },
          "metadata": {},
          "execution_count": 23
        }
      ],
      "source": [
        "points = torch.tensor([[4.0, 1.0], [5.0, 3.0], [2.0, 1.0]])\n",
        "points"
      ]
    },
    {
      "cell_type": "code",
      "source": [
        "a.shape"
      ],
      "metadata": {
        "colab": {
          "base_uri": "https://localhost:8080/"
        },
        "id": "Ev8zD0M5KIVX",
        "outputId": "e34f63e8-8204-4e26-ed5a-7b56abd8cfb5"
      },
      "execution_count": null,
      "outputs": [
        {
          "output_type": "execute_result",
          "data": {
            "text/plain": [
              "torch.Size([3])"
            ]
          },
          "metadata": {},
          "execution_count": 24
        }
      ]
    },
    {
      "cell_type": "code",
      "execution_count": 57,
      "metadata": {
        "id": "z8RCkuv8Is7P",
        "outputId": "35919efa-2041-48e0-f999-aaae101c3570",
        "colab": {
          "base_uri": "https://localhost:8080/"
        }
      },
      "outputs": [
        {
          "output_type": "execute_result",
          "data": {
            "text/plain": [
              "torch.Size([3, 2])"
            ]
          },
          "metadata": {},
          "execution_count": 57
        }
      ],
      "source": [
        "points.shape"
      ]
    },
    {
      "cell_type": "code",
      "execution_count": 59,
      "metadata": {
        "id": "_Px6mhBJIs7P",
        "outputId": "7d81140e-7197-4f72-aa29-0c62e15cc552",
        "colab": {
          "base_uri": "https://localhost:8080/"
        }
      },
      "outputs": [
        {
          "output_type": "execute_result",
          "data": {
            "text/plain": [
              "<function torch._VariableFunctionsClass.zero_>"
            ]
          },
          "metadata": {},
          "execution_count": 59
        }
      ],
      "source": [
        "points = torch.zero_\n",
        "points"
      ]
    },
    {
      "cell_type": "code",
      "execution_count": 60,
      "metadata": {
        "id": "bZDiKm0SIs7P",
        "outputId": "e3d429fe-7524-43d1-818a-32727050bd8c",
        "colab": {
          "base_uri": "https://localhost:8080/"
        }
      },
      "outputs": [
        {
          "output_type": "execute_result",
          "data": {
            "text/plain": [
              "tensor([[4., 1.],\n",
              "        [5., 3.],\n",
              "        [2., 1.]])"
            ]
          },
          "metadata": {},
          "execution_count": 60
        }
      ],
      "source": [
        "points = torch.tensor([[4.0, 1.0], [5.0, 3.0], [2.0, 1.0]])\n",
        "points"
      ]
    },
    {
      "cell_type": "code",
      "execution_count": null,
      "metadata": {
        "id": "V7G3GcIRIs7P",
        "outputId": "6be855c1-ba12-4fc8-b5db-42f441815c84"
      },
      "outputs": [
        {
          "data": {
            "text/plain": [
              "tensor(1.)"
            ]
          },
          "execution_count": 15,
          "metadata": {},
          "output_type": "execute_result"
        }
      ],
      "source": [
        "points[0, 1]"
      ]
    },
    {
      "cell_type": "code",
      "execution_count": null,
      "metadata": {
        "id": "TnDBjL9_Is7P",
        "outputId": "94a4f85a-10e9-40a9-c697-24518b4084dc"
      },
      "outputs": [
        {
          "data": {
            "text/plain": [
              "tensor([4., 1.])"
            ]
          },
          "execution_count": 16,
          "metadata": {},
          "output_type": "execute_result"
        }
      ],
      "source": [
        "points[0]"
      ]
    },
    {
      "cell_type": "code",
      "execution_count": null,
      "metadata": {
        "colab": {
          "base_uri": "https://localhost:8080/"
        },
        "id": "mI-j8e7RIs7P",
        "outputId": "14351112-1cbf-4cc5-c927-d9c43b58a31a"
      },
      "outputs": [
        {
          "output_type": "execute_result",
          "data": {
            "text/plain": [
              " 4.0\n",
              " 1.0\n",
              " 5.0\n",
              " 3.0\n",
              " 2.0\n",
              " 1.0\n",
              " 5.0\n",
              " 2.0\n",
              " 6.0\n",
              " 4.0\n",
              " 3.0\n",
              " 9.0\n",
              "[torch.storage.TypedStorage(dtype=torch.float32, device=cpu) of size 12]"
            ]
          },
          "metadata": {},
          "execution_count": 23
        }
      ],
      "source": [
        "points = torch.tensor([[[4.0, 1.0], [5.0, 3.0], [2.0, 1.0]],[[5.0, 2.0], [6.0, 4.0], [3.0, 9.0]]])\n",
        "points.storage()"
      ]
    },
    {
      "cell_type": "code",
      "source": [
        "p2=points\n",
        "p2[0,2,1]=23\n",
        "points"
      ],
      "metadata": {
        "colab": {
          "base_uri": "https://localhost:8080/"
        },
        "id": "4rncIxFc4MAS",
        "outputId": "98601287-8a97-43ef-df07-58a16f3a43cc"
      },
      "execution_count": null,
      "outputs": [
        {
          "output_type": "execute_result",
          "data": {
            "text/plain": [
              "tensor([[[ 4.,  1.],\n",
              "         [ 5.,  3.],\n",
              "         [ 2., 23.]],\n",
              "\n",
              "        [[ 5.,  2.],\n",
              "         [ 6.,  4.],\n",
              "         [ 3.,  9.]]])"
            ]
          },
          "metadata": {},
          "execution_count": 26
        }
      ]
    },
    {
      "cell_type": "code",
      "source": [
        "point_a=points.transpose(0,1)\n",
        "point_a\n"
      ],
      "metadata": {
        "colab": {
          "base_uri": "https://localhost:8080/"
        },
        "id": "m6ezSu-w0Tka",
        "outputId": "f9b9cbf6-0cb1-482e-a92b-274353ede272"
      },
      "execution_count": null,
      "outputs": [
        {
          "output_type": "execute_result",
          "data": {
            "text/plain": [
              "tensor([[[ 4.,  1.],\n",
              "         [ 5.,  2.]],\n",
              "\n",
              "        [[ 5.,  3.],\n",
              "         [ 6.,  4.]],\n",
              "\n",
              "        [[ 2., 23.],\n",
              "         [ 3.,  9.]]])"
            ]
          },
          "metadata": {},
          "execution_count": 27
        }
      ]
    },
    {
      "cell_type": "code",
      "source": [
        "point_a.storage()\n"
      ],
      "metadata": {
        "colab": {
          "base_uri": "https://localhost:8080/"
        },
        "id": "qiXfuaI530oS",
        "outputId": "8e98b0d8-ba6f-41d4-c66a-0e946a820316"
      },
      "execution_count": null,
      "outputs": [
        {
          "output_type": "execute_result",
          "data": {
            "text/plain": [
              " 4.0\n",
              " 1.0\n",
              " 5.0\n",
              " 3.0\n",
              " 2.0\n",
              " 23.0\n",
              " 5.0\n",
              " 2.0\n",
              " 6.0\n",
              " 4.0\n",
              " 3.0\n",
              " 9.0\n",
              "[torch.storage.TypedStorage(dtype=torch.float32, device=cpu) of size 12]"
            ]
          },
          "metadata": {},
          "execution_count": 28
        }
      ]
    },
    {
      "cell_type": "code",
      "source": [
        "points.storage()"
      ],
      "metadata": {
        "colab": {
          "base_uri": "https://localhost:8080/"
        },
        "id": "2cUMwave0LFs",
        "outputId": "09e935c5-d0c6-487e-92f9-95e10d9b96bc"
      },
      "execution_count": null,
      "outputs": [
        {
          "output_type": "execute_result",
          "data": {
            "text/plain": [
              " 4.0\n",
              " 1.0\n",
              " 5.0\n",
              " 3.0\n",
              " 2.0\n",
              " 1.0\n",
              " 5.0\n",
              " 2.0\n",
              " 6.0\n",
              " 4.0\n",
              " 3.0\n",
              " 9.0\n",
              "[torch.storage.TypedStorage(dtype=torch.float32, device=cpu) of size 12]"
            ]
          },
          "metadata": {},
          "execution_count": 16
        }
      ]
    },
    {
      "cell_type": "code",
      "source": [
        "a.shape"
      ],
      "metadata": {
        "colab": {
          "base_uri": "https://localhost:8080/"
        },
        "id": "F5J_I9AALHxO",
        "outputId": "7d22662f-1cb7-4181-d74b-0469a97775bd"
      },
      "execution_count": null,
      "outputs": [
        {
          "output_type": "execute_result",
          "data": {
            "text/plain": [
              "torch.Size([3])"
            ]
          },
          "metadata": {},
          "execution_count": 33
        }
      ]
    },
    {
      "cell_type": "code",
      "execution_count": null,
      "metadata": {
        "colab": {
          "base_uri": "https://localhost:8080/"
        },
        "id": "C1yspsHfIs7P",
        "outputId": "3e74f9b3-57c1-4090-a81f-709f9015430c"
      },
      "outputs": [
        {
          "output_type": "execute_result",
          "data": {
            "text/plain": [
              "4.0"
            ]
          },
          "metadata": {},
          "execution_count": 29
        }
      ],
      "source": [
        "points_storage = points.storage()\n",
        "points_storage[0]"
      ]
    },
    {
      "cell_type": "code",
      "source": [
        "a.shape"
      ],
      "metadata": {
        "colab": {
          "base_uri": "https://localhost:8080/"
        },
        "id": "9OZfJsl4K7lX",
        "outputId": "a9b0fc47-a78e-4a2c-e873-c60efcefb3af"
      },
      "execution_count": null,
      "outputs": [
        {
          "output_type": "execute_result",
          "data": {
            "text/plain": [
              "torch.Size([3])"
            ]
          },
          "metadata": {},
          "execution_count": 28
        }
      ]
    },
    {
      "cell_type": "code",
      "execution_count": null,
      "metadata": {
        "colab": {
          "base_uri": "https://localhost:8080/"
        },
        "id": "jsOVXV_zIs7Q",
        "outputId": "d98dacb9-10ea-4823-9a22-09f62846e04d"
      },
      "outputs": [
        {
          "output_type": "stream",
          "name": "stderr",
          "text": [
            "/tmp/ipython-input-417633554.py:1: UserWarning: TypedStorage is deprecated. It will be removed in the future and UntypedStorage will be the only storage class. This should only matter to you if you are using storages directly.  To access UntypedStorage directly, use tensor.untyped_storage() instead of tensor.storage()\n",
            "  points.storage()[1]\n"
          ]
        },
        {
          "output_type": "execute_result",
          "data": {
            "text/plain": [
              "1.0"
            ]
          },
          "metadata": {},
          "execution_count": 25
        }
      ],
      "source": [
        "points.storage()[1]"
      ]
    },
    {
      "cell_type": "code",
      "execution_count": null,
      "metadata": {
        "id": "FPKLcs7XIs7Q",
        "outputId": "d76f6069-876b-40cc-e8b7-f8640d85da4a",
        "colab": {
          "base_uri": "https://localhost:8080/"
        }
      },
      "outputs": [
        {
          "output_type": "execute_result",
          "data": {
            "text/plain": [
              " 4.0\n",
              " 1.0\n",
              " 5.0\n",
              " 99.0\n",
              " 2.0\n",
              " 1.0\n",
              "[torch.storage.TypedStorage(dtype=torch.float32, device=cpu) of size 6]"
            ]
          },
          "metadata": {},
          "execution_count": 35
        }
      ],
      "source": [
        "points = torch.tensor([[4.0, 1.0], [5.0, 3.0], [2.0, 1.0]])\n",
        "points_storage = points.storage()\n",
        "points_storage[3] = 99.0\n",
        "points.storage()\n"
      ]
    },
    {
      "cell_type": "code",
      "execution_count": null,
      "metadata": {
        "id": "y3jXyNQXIs7Q",
        "outputId": "3920a9a6-b46c-4798-86c7-cff25709bc17",
        "colab": {
          "base_uri": "https://localhost:8080/"
        }
      },
      "outputs": [
        {
          "output_type": "execute_result",
          "data": {
            "text/plain": [
              "0"
            ]
          },
          "metadata": {},
          "execution_count": 42
        }
      ],
      "source": [
        "points = torch.tensor([[4.0, 1.0], [5.0, 3.0], [2.0, 1.0]])\n",
        "second_point = points[0]\n",
        "second_point.storage_offset()"
      ]
    },
    {
      "cell_type": "code",
      "execution_count": null,
      "metadata": {
        "id": "dXLqO7w4Is7Q",
        "outputId": "15438eee-db43-4118-936a-06a3c62dbe58"
      },
      "outputs": [
        {
          "data": {
            "text/plain": [
              "torch.Size([2])"
            ]
          },
          "execution_count": 22,
          "metadata": {},
          "output_type": "execute_result"
        }
      ],
      "source": [
        "second_point.size()"
      ]
    },
    {
      "cell_type": "code",
      "execution_count": null,
      "metadata": {
        "id": "cxOFz4hKIs7Q",
        "outputId": "c87dcffd-a4a9-456c-b802-db99cdd6db78"
      },
      "outputs": [
        {
          "data": {
            "text/plain": [
              "torch.Size([2])"
            ]
          },
          "execution_count": 23,
          "metadata": {},
          "output_type": "execute_result"
        }
      ],
      "source": [
        "second_point.shape"
      ]
    },
    {
      "cell_type": "code",
      "execution_count": null,
      "metadata": {
        "id": "LDt-1jT9Is7Q",
        "outputId": "50cd2523-2620-4e45-cc2e-19a7017f5cf8"
      },
      "outputs": [
        {
          "data": {
            "text/plain": [
              "(2, 1)"
            ]
          },
          "execution_count": 24,
          "metadata": {},
          "output_type": "execute_result"
        }
      ],
      "source": [
        "points.stride()"
      ]
    },
    {
      "cell_type": "code",
      "execution_count": null,
      "metadata": {
        "id": "sKg210XUIs7Q",
        "outputId": "3be0cda2-2b25-4dfc-f93a-e5cc169955ce"
      },
      "outputs": [
        {
          "data": {
            "text/plain": [
              "torch.Size([2])"
            ]
          },
          "execution_count": 25,
          "metadata": {},
          "output_type": "execute_result"
        }
      ],
      "source": [
        "second_point = points[1]\n",
        "second_point.size()"
      ]
    },
    {
      "cell_type": "code",
      "execution_count": null,
      "metadata": {
        "id": "mDlmG8eNIs7Q",
        "outputId": "7d8d2147-0dc5-4943-d4e4-b452af3f4752"
      },
      "outputs": [
        {
          "data": {
            "text/plain": [
              "2"
            ]
          },
          "execution_count": 26,
          "metadata": {},
          "output_type": "execute_result"
        }
      ],
      "source": [
        "second_point.storage_offset()"
      ]
    },
    {
      "cell_type": "code",
      "execution_count": null,
      "metadata": {
        "id": "W4U_IV6NIs7Q",
        "outputId": "01410e10-86d3-462a-d6f5-4bba0cf36f24"
      },
      "outputs": [
        {
          "data": {
            "text/plain": [
              "(1,)"
            ]
          },
          "execution_count": 27,
          "metadata": {},
          "output_type": "execute_result"
        }
      ],
      "source": [
        "second_point.stride()"
      ]
    },
    {
      "cell_type": "code",
      "execution_count": null,
      "metadata": {
        "id": "tiwunrvsIs7R",
        "outputId": "8f15f6e9-c955-4900-99e3-287bebb92f93",
        "colab": {
          "base_uri": "https://localhost:8080/"
        }
      },
      "outputs": [
        {
          "output_type": "execute_result",
          "data": {
            "text/plain": [
              "tensor([[ 4.,  1.],\n",
              "        [ 5.,  3.],\n",
              "        [ 2., 10.]])"
            ]
          },
          "metadata": {},
          "execution_count": 52
        }
      ],
      "source": [
        "points = torch.tensor([[4.0, 1.0], [5.0, 3.0], [2.0, 1.0]])\n",
        "second_point = points[2]\n",
        "second_point[1] = 10.0\n",
        "points"
      ]
    },
    {
      "cell_type": "code",
      "execution_count": null,
      "metadata": {
        "id": "DhPBtIm7Is7R",
        "outputId": "5144a334-98dd-49aa-a33a-b87a669fca41"
      },
      "outputs": [
        {
          "data": {
            "text/plain": [
              "tensor([[4., 1.],\n",
              "        [5., 3.],\n",
              "        [2., 1.]])"
            ]
          },
          "execution_count": 29,
          "metadata": {},
          "output_type": "execute_result"
        }
      ],
      "source": [
        "points = torch.tensor([[4.0, 1.0], [5.0, 3.0], [2.0, 1.0]])\n",
        "second_point = points[1].clone()\n",
        "second_point[0] = 10.0\n",
        "points"
      ]
    },
    {
      "cell_type": "code",
      "execution_count": null,
      "metadata": {
        "id": "3CwMSuMqIs7R",
        "outputId": "e1ca57a1-2f7d-4ff6-ffd0-a91ba5012e7c"
      },
      "outputs": [
        {
          "data": {
            "text/plain": [
              "tensor([[4., 1.],\n",
              "        [5., 3.],\n",
              "        [2., 1.]])"
            ]
          },
          "execution_count": 30,
          "metadata": {},
          "output_type": "execute_result"
        }
      ],
      "source": [
        "points = torch.tensor([[4.0, 1.0], [5.0, 3.0], [2.0, 1.0]])\n",
        "points"
      ]
    },
    {
      "cell_type": "code",
      "execution_count": null,
      "metadata": {
        "id": "pcjxjFxqIs7R",
        "outputId": "dec2d9fc-67e9-45c3-f1be-3bcd544a02ea"
      },
      "outputs": [
        {
          "data": {
            "text/plain": [
              "tensor([[4., 5., 2.],\n",
              "        [1., 3., 1.]])"
            ]
          },
          "execution_count": 31,
          "metadata": {},
          "output_type": "execute_result"
        }
      ],
      "source": [
        "points_t = points.t()\n",
        "points_t"
      ]
    },
    {
      "cell_type": "code",
      "execution_count": null,
      "metadata": {
        "id": "BU_AlcfSIs7R",
        "outputId": "b024313c-2661-4a3d-8ff1-5c11248afe45"
      },
      "outputs": [
        {
          "data": {
            "text/plain": [
              "True"
            ]
          },
          "execution_count": 32,
          "metadata": {},
          "output_type": "execute_result"
        }
      ],
      "source": [
        "id(points.storage()) == id(points_t.storage())"
      ]
    },
    {
      "cell_type": "code",
      "execution_count": null,
      "metadata": {
        "id": "1EM0K_ZhIs7R",
        "outputId": "09684cb5-73df-4790-bcd3-2518eca41a23"
      },
      "outputs": [
        {
          "data": {
            "text/plain": [
              "(2, 1)"
            ]
          },
          "execution_count": 33,
          "metadata": {},
          "output_type": "execute_result"
        }
      ],
      "source": [
        "points.stride()"
      ]
    },
    {
      "cell_type": "code",
      "execution_count": null,
      "metadata": {
        "id": "p1qTF7zpIs7R",
        "outputId": "96dfc7b9-e0eb-4206-e3f9-da12c8ebe34a"
      },
      "outputs": [
        {
          "data": {
            "text/plain": [
              "(1, 2)"
            ]
          },
          "execution_count": 34,
          "metadata": {},
          "output_type": "execute_result"
        }
      ],
      "source": [
        "points_t.stride()"
      ]
    },
    {
      "cell_type": "code",
      "execution_count": null,
      "metadata": {
        "id": "HD9HqLFKIs7R",
        "outputId": "15a57302-5adc-427d-a448-16a21f5ac4da"
      },
      "outputs": [
        {
          "data": {
            "text/plain": [
              "torch.Size([3, 4, 5])"
            ]
          },
          "execution_count": 35,
          "metadata": {},
          "output_type": "execute_result"
        }
      ],
      "source": [
        "some_t = torch.ones(3, 4, 5)\n",
        "transpose_t = some_t.transpose(0, 2)\n",
        "some_t.shape"
      ]
    },
    {
      "cell_type": "code",
      "execution_count": null,
      "metadata": {
        "id": "WNN0PUKjIs7R",
        "outputId": "d19eb337-881f-4ebb-94b6-da1f83c19fa0"
      },
      "outputs": [
        {
          "data": {
            "text/plain": [
              "torch.Size([5, 4, 3])"
            ]
          },
          "execution_count": 36,
          "metadata": {},
          "output_type": "execute_result"
        }
      ],
      "source": [
        "transpose_t.shape"
      ]
    },
    {
      "cell_type": "code",
      "execution_count": null,
      "metadata": {
        "id": "0_roUdeEIs7S",
        "outputId": "5d488e23-bf5b-45bb-bcba-3084eb46cab2"
      },
      "outputs": [
        {
          "data": {
            "text/plain": [
              "(20, 5, 1)"
            ]
          },
          "execution_count": 37,
          "metadata": {},
          "output_type": "execute_result"
        }
      ],
      "source": [
        "some_t.stride()"
      ]
    },
    {
      "cell_type": "code",
      "execution_count": null,
      "metadata": {
        "id": "4-1KfQsCIs7S",
        "outputId": "d1d5bb09-d905-45c6-aa29-eb85f3b3e99d"
      },
      "outputs": [
        {
          "data": {
            "text/plain": [
              "(1, 5, 20)"
            ]
          },
          "execution_count": 38,
          "metadata": {},
          "output_type": "execute_result"
        }
      ],
      "source": [
        "transpose_t.stride()"
      ]
    },
    {
      "cell_type": "code",
      "execution_count": null,
      "metadata": {
        "id": "RVKx2zBVIs7S",
        "outputId": "fe97152d-2dce-45cd-ded5-9a11ae0e32d2"
      },
      "outputs": [
        {
          "data": {
            "text/plain": [
              "True"
            ]
          },
          "execution_count": 39,
          "metadata": {},
          "output_type": "execute_result"
        }
      ],
      "source": [
        "points.is_contiguous()"
      ]
    },
    {
      "cell_type": "code",
      "execution_count": null,
      "metadata": {
        "id": "aGnXoe3AIs7V",
        "outputId": "143957a6-7901-407a-c06c-0c924beae71a"
      },
      "outputs": [
        {
          "data": {
            "text/plain": [
              "False"
            ]
          },
          "execution_count": 40,
          "metadata": {},
          "output_type": "execute_result"
        }
      ],
      "source": [
        "points_t.is_contiguous()"
      ]
    },
    {
      "cell_type": "code",
      "execution_count": null,
      "metadata": {
        "id": "syIWlRePIs7V",
        "outputId": "b0a86dc8-714a-4c27-dc7e-bc174856766e"
      },
      "outputs": [
        {
          "data": {
            "text/plain": [
              "tensor([[4., 5., 2.],\n",
              "        [1., 3., 1.]])"
            ]
          },
          "execution_count": 41,
          "metadata": {},
          "output_type": "execute_result"
        }
      ],
      "source": [
        "points = torch.tensor([[4.0, 1.0], [5.0, 3.0], [2.0, 1.0]])\n",
        "points_t = points.t()\n",
        "points_t"
      ]
    },
    {
      "cell_type": "code",
      "execution_count": null,
      "metadata": {
        "id": "3nrrxgcrIs7V",
        "outputId": "fb590a15-2ce8-4824-c839-f59bebb768f0"
      },
      "outputs": [
        {
          "data": {
            "text/plain": [
              " 4.0\n",
              " 1.0\n",
              " 5.0\n",
              " 3.0\n",
              " 2.0\n",
              " 1.0\n",
              "[torch.FloatStorage of size 6]"
            ]
          },
          "execution_count": 42,
          "metadata": {},
          "output_type": "execute_result"
        }
      ],
      "source": [
        "points_t.storage()"
      ]
    },
    {
      "cell_type": "code",
      "execution_count": null,
      "metadata": {
        "id": "CjFPQHwMIs7V",
        "outputId": "4cf5bc57-70d0-4ebb-edc2-96807c7c331f"
      },
      "outputs": [
        {
          "data": {
            "text/plain": [
              "(1, 2)"
            ]
          },
          "execution_count": 43,
          "metadata": {},
          "output_type": "execute_result"
        }
      ],
      "source": [
        "points_t.stride()"
      ]
    },
    {
      "cell_type": "code",
      "execution_count": null,
      "metadata": {
        "id": "jBJLQkx0Is7V",
        "outputId": "7984cc34-9608-406b-996f-622f5687a813"
      },
      "outputs": [
        {
          "data": {
            "text/plain": [
              "tensor([[4., 5., 2.],\n",
              "        [1., 3., 1.]])"
            ]
          },
          "execution_count": 44,
          "metadata": {},
          "output_type": "execute_result"
        }
      ],
      "source": [
        "points_t_cont = points_t.contiguous()\n",
        "points_t_cont"
      ]
    },
    {
      "cell_type": "code",
      "execution_count": null,
      "metadata": {
        "id": "lY33ovmkIs7W",
        "outputId": "32e41169-7855-4d5b-e9b0-60f81532c58d"
      },
      "outputs": [
        {
          "data": {
            "text/plain": [
              "(3, 1)"
            ]
          },
          "execution_count": 45,
          "metadata": {},
          "output_type": "execute_result"
        }
      ],
      "source": [
        "points_t_cont.stride()"
      ]
    },
    {
      "cell_type": "code",
      "execution_count": null,
      "metadata": {
        "id": "FKYsPmhEIs7W",
        "outputId": "780e97e5-42b5-4234-eee9-a192d1c78d47"
      },
      "outputs": [
        {
          "data": {
            "text/plain": [
              " 4.0\n",
              " 5.0\n",
              " 2.0\n",
              " 1.0\n",
              " 3.0\n",
              " 1.0\n",
              "[torch.FloatStorage of size 6]"
            ]
          },
          "execution_count": 46,
          "metadata": {},
          "output_type": "execute_result"
        }
      ],
      "source": [
        "points_t_cont.storage()"
      ]
    },
    {
      "cell_type": "code",
      "execution_count": null,
      "metadata": {
        "id": "gkisEZI5Is7W"
      },
      "outputs": [],
      "source": [
        "double_points = torch.ones(10, 2, dtype=torch.double)\n",
        "short_points = torch.tensor([[1, 2], [3, 4]], dtype=torch.short)"
      ]
    },
    {
      "cell_type": "code",
      "execution_count": null,
      "metadata": {
        "id": "waDccOjsIs7W",
        "outputId": "408d0b11-407a-46d9-d1b0-561d81de21f5"
      },
      "outputs": [
        {
          "data": {
            "text/plain": [
              "torch.int16"
            ]
          },
          "execution_count": 48,
          "metadata": {},
          "output_type": "execute_result"
        }
      ],
      "source": [
        "short_points.dtype"
      ]
    },
    {
      "cell_type": "code",
      "execution_count": null,
      "metadata": {
        "id": "jt78juqkIs7W"
      },
      "outputs": [],
      "source": [
        "double_points = torch.zeros(10, 2).double()\n",
        "short_points = torch.ones(10, 2).short()"
      ]
    },
    {
      "cell_type": "code",
      "execution_count": null,
      "metadata": {
        "id": "CHqT7Rq4Is7W"
      },
      "outputs": [],
      "source": [
        "double_points = torch.zeros(10, 2).to(torch.double)\n",
        "short_points = torch.ones(10, 2).to(dtype=torch.short)"
      ]
    },
    {
      "cell_type": "code",
      "execution_count": null,
      "metadata": {
        "id": "gx6Y67VYIs7W",
        "outputId": "5bd02220-e1c5-4329-8c9f-e61b89445aa9",
        "colab": {
          "base_uri": "https://localhost:8080/"
        }
      },
      "outputs": [
        {
          "output_type": "execute_result",
          "data": {
            "text/plain": [
              "tensor([0., 0., 0., 0., 0.], dtype=torch.float64)"
            ]
          },
          "metadata": {},
          "execution_count": 12
        }
      ],
      "source": [
        "points_64 = torch.rand(5, dtype=torch.double)  # <1>\n",
        "points_short = points_64.to(torch.short)\n",
        "points_64 * points_short  # works from PyTorch 1.3 onwards"
      ]
    },
    {
      "cell_type": "code",
      "execution_count": null,
      "metadata": {
        "id": "onU1ecpQIs7W"
      },
      "outputs": [],
      "source": [
        "# reset points back to original value\n",
        "points = torch.tensor([[4.0, 1.0], [5.0, 3.0], [2.0, 1.0]])"
      ]
    },
    {
      "cell_type": "code",
      "execution_count": null,
      "metadata": {
        "id": "yfdJomePIs7X",
        "outputId": "32cdb219-f575-4060-ecee-bc8487395604"
      },
      "outputs": [
        {
          "data": {
            "text/plain": [
              "[1, 3]"
            ]
          },
          "execution_count": 53,
          "metadata": {},
          "output_type": "execute_result"
        }
      ],
      "source": [
        "some_list = list(range(6))\n",
        "some_list[:]     # <1>\n",
        "some_list[1:4]   # <2>\n",
        "some_list[1:]    # <3>\n",
        "some_list[:4]    # <4>\n",
        "some_list[:-1]   # <5>\n",
        "some_list[1:4:2] # <6>"
      ]
    },
    {
      "cell_type": "code",
      "execution_count": null,
      "metadata": {
        "id": "tej4uxhvIs7X",
        "outputId": "118727ad-9574-4bba-d008-6dfe07817e39"
      },
      "outputs": [
        {
          "data": {
            "text/plain": [
              "tensor([[[4., 1.],\n",
              "         [5., 3.],\n",
              "         [2., 1.]]])"
            ]
          },
          "execution_count": 54,
          "metadata": {},
          "output_type": "execute_result"
        }
      ],
      "source": [
        "points[1:]       # <1>\n",
        "points[1:, :]    # <2>\n",
        "points[1:, 0]    # <3>\n",
        "points[None]     # <4>"
      ]
    },
    {
      "cell_type": "code",
      "execution_count": null,
      "metadata": {
        "id": "8pxPcK_4Is7X",
        "outputId": "4f7cd53a-2c3b-433b-ac24-9c9136322073"
      },
      "outputs": [
        {
          "data": {
            "text/plain": [
              "array([[1., 1., 1., 1.],\n",
              "       [1., 1., 1., 1.],\n",
              "       [1., 1., 1., 1.]], dtype=float32)"
            ]
          },
          "execution_count": 55,
          "metadata": {},
          "output_type": "execute_result"
        }
      ],
      "source": [
        "points = torch.ones(3, 4)\n",
        "points_np = points.numpy()\n",
        "points_np"
      ]
    },
    {
      "cell_type": "code",
      "execution_count": null,
      "metadata": {
        "id": "kUWsbHllIs7X"
      },
      "outputs": [],
      "source": [
        "points = torch.from_numpy(points_np)"
      ]
    },
    {
      "cell_type": "code",
      "execution_count": null,
      "metadata": {
        "id": "S8YD7KAVIs7X"
      },
      "outputs": [],
      "source": [
        "torch.save(points, '../data/p1ch3/ourpoints.t')"
      ]
    },
    {
      "cell_type": "code",
      "execution_count": null,
      "metadata": {
        "id": "1YS8ZoLIIs7X"
      },
      "outputs": [],
      "source": [
        "with open('../data/p1ch3/ourpoints.t','wb') as f:\n",
        "   torch.save(points, f)"
      ]
    },
    {
      "cell_type": "code",
      "execution_count": null,
      "metadata": {
        "id": "5eEaFoTmIs7X"
      },
      "outputs": [],
      "source": [
        "points = torch.load('../data/p1ch3/ourpoints.t')"
      ]
    },
    {
      "cell_type": "code",
      "execution_count": null,
      "metadata": {
        "id": "muiEZT5pIs7X"
      },
      "outputs": [],
      "source": [
        "with open('../data/p1ch3/ourpoints.t','rb') as f:\n",
        "   points = torch.load(f)"
      ]
    },
    {
      "cell_type": "code",
      "execution_count": null,
      "metadata": {
        "id": "cNElcLbIIs7X"
      },
      "outputs": [],
      "source": [
        "import h5py\n",
        "\n",
        "f = h5py.File('../data/p1ch3/ourpoints.hdf5', 'w')\n",
        "dset = f.create_dataset('coords', data=points.numpy())\n",
        "f.close()"
      ]
    },
    {
      "cell_type": "code",
      "execution_count": null,
      "metadata": {
        "id": "C-KD59d7Is7Y"
      },
      "outputs": [],
      "source": [
        "f = h5py.File('../data/p1ch3/ourpoints.hdf5', 'r')\n",
        "dset = f['coords']\n",
        "last_points = dset[-2:]"
      ]
    },
    {
      "cell_type": "code",
      "execution_count": null,
      "metadata": {
        "id": "HM958yf8Is7Y"
      },
      "outputs": [],
      "source": [
        "last_points = torch.from_numpy(dset[-2:])\n",
        "f.close()"
      ]
    },
    {
      "cell_type": "code",
      "execution_count": null,
      "metadata": {
        "id": "yE2ZWyEWIs7Y"
      },
      "outputs": [],
      "source": [
        "points_gpu = torch.tensor([[4.0, 1.0], [5.0, 3.0], [2.0, 1.0]], device='cuda')"
      ]
    },
    {
      "cell_type": "code",
      "execution_count": null,
      "metadata": {
        "id": "tjEbUw8lIs7Y"
      },
      "outputs": [],
      "source": [
        "points_gpu = points.to(device='cuda')"
      ]
    },
    {
      "cell_type": "code",
      "execution_count": null,
      "metadata": {
        "id": "DpeCtZf-Is7Y"
      },
      "outputs": [],
      "source": [
        "points_gpu = points.to(device='cuda:0')"
      ]
    },
    {
      "cell_type": "code",
      "execution_count": null,
      "metadata": {
        "id": "jnUU6M9VIs7Y"
      },
      "outputs": [],
      "source": [
        "points = 2 * points  # <1>\n",
        "points_gpu = 2 * points.to(device='cuda')  # <2>"
      ]
    },
    {
      "cell_type": "code",
      "execution_count": null,
      "metadata": {
        "id": "QGAj1voGIs7Y"
      },
      "outputs": [],
      "source": [
        "points_gpu = points_gpu + 4"
      ]
    },
    {
      "cell_type": "code",
      "execution_count": null,
      "metadata": {
        "id": "c9iiugO0Is7Y"
      },
      "outputs": [],
      "source": [
        "points_cpu = points_gpu.to(device='cpu')"
      ]
    },
    {
      "cell_type": "code",
      "execution_count": null,
      "metadata": {
        "id": "LZl-rv_wIs7Y"
      },
      "outputs": [],
      "source": [
        "points_gpu = points.cuda()  # <1>\n",
        "points_gpu = points.cuda(0)\n",
        "points_cpu = points_gpu.cpu()"
      ]
    },
    {
      "cell_type": "code",
      "execution_count": null,
      "metadata": {
        "id": "4MoiEYDDIs7Z",
        "outputId": "ebe77987-227f-41d4-b965-6044df4d1df4"
      },
      "outputs": [
        {
          "data": {
            "text/plain": [
              "(torch.Size([3, 2]), torch.Size([2, 3]))"
            ]
          },
          "execution_count": 71,
          "metadata": {},
          "output_type": "execute_result"
        }
      ],
      "source": [
        "a = torch.ones(3, 2)\n",
        "a_t = torch.transpose(a, 0, 1)\n",
        "\n",
        "a.shape, a_t.shape"
      ]
    },
    {
      "cell_type": "code",
      "execution_count": null,
      "metadata": {
        "id": "xYxSQ1DPIs7Z",
        "outputId": "54229302-db74-415f-9e99-23188b4fd55c"
      },
      "outputs": [
        {
          "data": {
            "text/plain": [
              "(torch.Size([3, 2]), torch.Size([2, 3]))"
            ]
          },
          "execution_count": 72,
          "metadata": {},
          "output_type": "execute_result"
        }
      ],
      "source": [
        "a = torch.ones(3, 2)\n",
        "a_t = a.transpose(0, 1)\n",
        "\n",
        "a.shape, a_t.shape"
      ]
    },
    {
      "cell_type": "code",
      "execution_count": null,
      "metadata": {
        "id": "buXOcBMAIs7Z"
      },
      "outputs": [],
      "source": [
        "a = torch.ones(3, 2)"
      ]
    },
    {
      "cell_type": "code",
      "execution_count": null,
      "metadata": {
        "id": "KajfVCusIs7Z",
        "outputId": "ede516ef-efaa-4229-cca2-a938d0a7439a"
      },
      "outputs": [
        {
          "data": {
            "text/plain": [
              "tensor([[0., 0.],\n",
              "        [0., 0.],\n",
              "        [0., 0.]])"
            ]
          },
          "execution_count": 74,
          "metadata": {},
          "output_type": "execute_result"
        }
      ],
      "source": [
        "a.zero_()\n",
        "a"
      ]
    },
    {
      "cell_type": "code",
      "source": [],
      "metadata": {
        "id": "ljjmtA95N97S"
      },
      "execution_count": null,
      "outputs": []
    },
    {
      "cell_type": "code",
      "metadata": {
        "colab": {
          "base_uri": "https://localhost:8080/"
        },
        "id": "d2a2a753",
        "outputId": "19a9eb7a-23ed-474d-8a21-f89103674bee"
      },
      "source": [
        "# Declare a tensor with shape 5x3x2\n",
        "my_tensor = torch.empty(5, 3, 2)\n",
        "\n",
        "# Assign values based on location (indices)\n",
        "for i in range(my_tensor.shape[0]):\n",
        "    for j in range(my_tensor.shape[1]):\n",
        "        for k in range(my_tensor.shape[2]):\n",
        "            my_tensor[i, j, k] = i * 100 + j * 10 + k # Example: value based on indices\n",
        "\n",
        "print(my_tensor)"
      ],
      "execution_count": 81,
      "outputs": [
        {
          "output_type": "stream",
          "name": "stdout",
          "text": [
            "tensor([[[  0.,   1.],\n",
            "         [ 10.,  11.],\n",
            "         [ 20.,  21.]],\n",
            "\n",
            "        [[100., 101.],\n",
            "         [110., 111.],\n",
            "         [120., 121.]],\n",
            "\n",
            "        [[200., 201.],\n",
            "         [210., 211.],\n",
            "         [220., 221.]],\n",
            "\n",
            "        [[300., 301.],\n",
            "         [310., 311.],\n",
            "         [320., 321.]],\n",
            "\n",
            "        [[400., 401.],\n",
            "         [410., 411.],\n",
            "         [420., 421.]]])\n"
          ]
        }
      ]
    },
    {
      "cell_type": "code",
      "source": [
        "my_tensor.stride()"
      ],
      "metadata": {
        "colab": {
          "base_uri": "https://localhost:8080/"
        },
        "id": "NUBF7WXTPFKK",
        "outputId": "8e6a8746-3fcc-4e9c-f786-de867e0fa9aa"
      },
      "execution_count": 82,
      "outputs": [
        {
          "output_type": "execute_result",
          "data": {
            "text/plain": [
              "(6, 2, 1)"
            ]
          },
          "metadata": {},
          "execution_count": 82
        }
      ]
    },
    {
      "cell_type": "code",
      "source": [
        "t2=my_tensor.transpose(0,2)\n",
        "t2"
      ],
      "metadata": {
        "colab": {
          "base_uri": "https://localhost:8080/"
        },
        "id": "2D6M7NEoOgmx",
        "outputId": "b82c4693-784d-4722-8cd3-0aa29381571c"
      },
      "execution_count": 83,
      "outputs": [
        {
          "output_type": "execute_result",
          "data": {
            "text/plain": [
              "tensor([[[  0., 100., 200., 300., 400.],\n",
              "         [ 10., 110., 210., 310., 410.],\n",
              "         [ 20., 120., 220., 320., 420.]],\n",
              "\n",
              "        [[  1., 101., 201., 301., 401.],\n",
              "         [ 11., 111., 211., 311., 411.],\n",
              "         [ 21., 121., 221., 321., 421.]]])"
            ]
          },
          "metadata": {},
          "execution_count": 83
        }
      ]
    },
    {
      "cell_type": "code",
      "source": [
        "t2.stride()"
      ],
      "metadata": {
        "colab": {
          "base_uri": "https://localhost:8080/"
        },
        "id": "yUJ8VRNxPMZZ",
        "outputId": "07ab99bd-fd1e-4079-8f2a-bdce80675634"
      },
      "execution_count": 77,
      "outputs": [
        {
          "output_type": "execute_result",
          "data": {
            "text/plain": [
              "(1, 2, 6)"
            ]
          },
          "metadata": {},
          "execution_count": 77
        }
      ]
    },
    {
      "cell_type": "code",
      "source": [
        "id(my_tensor),id(t2)"
      ],
      "metadata": {
        "colab": {
          "base_uri": "https://localhost:8080/"
        },
        "id": "7SL4P_AEPV4R",
        "outputId": "b02b4d73-7089-4a69-cda0-a5c0799a6758"
      },
      "execution_count": 79,
      "outputs": [
        {
          "output_type": "execute_result",
          "data": {
            "text/plain": [
              "(138477505285648, 138477507156704)"
            ]
          },
          "metadata": {},
          "execution_count": 79
        }
      ]
    }
  ],
  "metadata": {
    "kernelspec": {
      "display_name": "Python 3",
      "language": "python",
      "name": "python3"
    },
    "language_info": {
      "codemirror_mode": {
        "name": "ipython",
        "version": 3
      },
      "file_extension": ".py",
      "mimetype": "text/x-python",
      "name": "python",
      "nbconvert_exporter": "python",
      "pygments_lexer": "ipython3",
      "version": "3.6.6"
    },
    "colab": {
      "provenance": [],
      "include_colab_link": true
    }
  },
  "nbformat": 4,
  "nbformat_minor": 0
}