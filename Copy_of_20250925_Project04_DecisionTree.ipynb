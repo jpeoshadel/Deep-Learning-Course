{
  "nbformat": 4,
  "nbformat_minor": 0,
  "metadata": {
    "colab": {
      "provenance": [],
      "authorship_tag": "ABX9TyO0qrUfYCUyGyJ9cktQBXvY",
      "include_colab_link": true
    },
    "kernelspec": {
      "name": "python3",
      "display_name": "Python 3"
    },
    "language_info": {
      "name": "python"
    }
  },
  "cells": [
    {
      "cell_type": "markdown",
      "metadata": {
        "id": "view-in-github",
        "colab_type": "text"
      },
      "source": [
        "<a href=\"https://colab.research.google.com/github/jpeoshadel/Deep-Learning-Course/blob/main/Copy_of_20250925_Project04_DecisionTree.ipynb\" target=\"_parent\"><img src=\"https://colab.research.google.com/assets/colab-badge.svg\" alt=\"Open In Colab\"/></a>"
      ]
    },
    {
      "cell_type": "code",
      "execution_count": null,
      "metadata": {
        "id": "X90_7_Wjo4nf"
      },
      "outputs": [],
      "source": []
    },
    {
      "cell_type": "code",
      "source": [
        "# 匯入相關套件\n",
        "import numpy as np\n",
        "import pandas as pd\n",
        "import matplotlib.pyplot as plt\n",
        "from sklearn import metrics\n",
        "from sklearn.model_selection import train_test_split\n",
        "import time # Import the time module\n",
        "\n",
        "# 載入糖尿病資料集\n",
        "# 請將 '/content/drive/MyDrive/diabetes.csv' 替換為您實際的檔案路徑\n",
        "df = pd.read_csv(\"diabetes.csv\")\n",
        "dataset = df.values\n",
        "np.random.shuffle(dataset) # 使用亂數打亂資料\n",
        "\n",
        "# 分割成輸入的訓練資料和標籤資料(最後㇐個欄位為outcome)\n",
        "X = dataset[:, :-1]\n",
        "y = dataset[:, -1]\n",
        "\n",
        "# 取得當前時間的最後一位數字作為 random_state\n",
        "current_time = int(time.time())\n",
        "last_digit = current_time % 10\n",
        "print(f\"Using last digit of current time as random_state: {last_digit}\")\n",
        "\n",
        "# 將資料分為train與test\n",
        "X_train, X_test, y_train, y_test = train_test_split(\n",
        "X, y, test_size=0.33, random_state=last_digit) # 使用 last_digit 作為 random_state"
      ],
      "metadata": {
        "colab": {
          "base_uri": "https://localhost:8080/"
        },
        "id": "-KtZWJSTpK0R",
        "outputId": "3d7a1107-7116-45a0-ae43-c736b4cdab9f"
      },
      "execution_count": 8,
      "outputs": [
        {
          "output_type": "stream",
          "name": "stdout",
          "text": [
            "Using last digit of current time as random_state: 1\n"
          ]
        }
      ]
    },
    {
      "cell_type": "code",
      "source": [
        "from sklearn import tree\n",
        "# 建立模型\n",
        "model = tree.DecisionTreeClassifier()\n",
        "# 訓練模型\n",
        "model.fit(X_train, y_train)\n",
        "# 評估模型\n",
        "y_pred = model.predict(X_test)\n",
        "# 顯示結果\n",
        "print(\n",
        "f\"Classification report for classifier {model}:\\n\"\n",
        "f\"{metrics.classification_report(y_test, y_pred)}\\n\"\n",
        ")\n",
        "# 查看混淆矩陣\n",
        "disp = metrics.ConfusionMatrixDisplay.from_predictions(y_test, y_pred)\n",
        "disp.figure_.suptitle(\"Confusion Matrix\")\n",
        "print(f\"Confusion matrix:\\n{disp.confusion_matrix}\")\n",
        "plt.show()"
      ],
      "metadata": {
        "colab": {
          "base_uri": "https://localhost:8080/",
          "height": 740
        },
        "id": "gx6xHw2gpemB",
        "outputId": "924a86ca-5696-4be6-e0f8-1bbfeab0b2ef"
      },
      "execution_count": 7,
      "outputs": [
        {
          "output_type": "stream",
          "name": "stdout",
          "text": [
            "Classification report for classifier DecisionTreeClassifier():\n",
            "              precision    recall  f1-score   support\n",
            "\n",
            "         0.0       0.78      0.76      0.77       170\n",
            "         1.0       0.55      0.57      0.56        84\n",
            "\n",
            "    accuracy                           0.70       254\n",
            "   macro avg       0.66      0.67      0.67       254\n",
            "weighted avg       0.70      0.70      0.70       254\n",
            "\n",
            "\n",
            "Confusion matrix:\n",
            "[[130  40]\n",
            " [ 36  48]]\n"
          ]
        },
        {
          "output_type": "display_data",
          "data": {
            "text/plain": [
              "<Figure size 640x480 with 2 Axes>"
            ],
            "image/png": "[encoded data removed]"
          },
          "metadata": {}
        }
      ]
    }
  ]
}